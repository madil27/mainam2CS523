{
 "cells": [
  {
   "cell_type": "code",
   "execution_count": null,
   "metadata": {
    "id": "zZdcj2e0OpY8"
   },
   "outputs": [],
   "source": [
    "import pandas as pd\n",
    "import seaborn as sns\n",
    "from matplotlib import pyplot\n",
    "import csv"
   ]
  },
  {
   "cell_type": "markdown",
   "metadata": {
    "id": "YCTBc8N3E9zg"
   },
   "source": [
    "# Reading Dataset"
   ]
  },
  {
   "cell_type": "code",
   "execution_count": null,
   "metadata": {},
   "outputs": [],
   "source": [
    "dataname= \"theia\"\n",
    "df = pd.read_csv(\"theiafinal.csv\")\n",
    "df.head()"
   ]
  },
  {
   "cell_type": "markdown",
   "metadata": {
    "id": "n-QEdlj1FA7G"
   },
   "source": [
    "# **_RQ1 :  What are the log reduction numbers across various reduction techniques?_**"
   ]
  },
  {
   "cell_type": "code",
   "execution_count": null,
   "metadata": {
    "colab": {
     "base_uri": "https://localhost:8080/"
    },
    "id": "38U-NRrKPxFa",
    "outputId": "3569ac0e-6e52-47ad-f493-cf3d5d5637f6"
   },
   "outputs": [],
   "source": [
    "tn = df.columns[2:]\n",
    "drop_count = []\n",
    "for tech in tn:\n",
    "    print(tech + \" \" + str(df[df[tech] == 2].shape[0]))\n",
    "    drop_count.append(df[df[tech] == 2].shape[0])\n",
    "  "
   ]
  },
  {
   "cell_type": "code",
   "execution_count": null,
   "metadata": {
    "colab": {
     "base_uri": "https://localhost:8080/",
     "height": 684
    },
    "id": "pz1YycpnQCdc",
    "outputId": "cf5bf64a-114e-4e56-cbaa-e1a0249a33ab"
   },
   "outputs": [],
   "source": [
    "data_bar = {}\n",
    "data_bar[\"Techniques\"] = tn\n",
    "data_bar[\"Entries_Dropped\"] = drop_count\n",
    "\n",
    "# sns.set_style(\"grid\")\n",
    "sns.set(rc={'figure.figsize':(12,11)})\n",
    "ax = sns.barplot(x=data_bar[\"Techniques\"], y=data_bar[\"Entries_Dropped\"], color=\"#003f5c\")\n",
    "ax.set_ylabel(\"Drop Count\")\n",
    "ax.set_xlabel(\"Techniques\")\n",
    "plt.savefig('drop_theia.pdf')"
   ]
  },
  {
   "cell_type": "markdown",
   "metadata": {
    "id": "ErnBacY3FdoP"
   },
   "source": [
    "# **_RQ2 :  What is the system call distribution (fileIO, process, network) of the events dropped across various techniques?_**"
   ]
  },
  {
   "cell_type": "code",
   "execution_count": null,
   "metadata": {
    "colab": {
     "base_uri": "https://localhost:8080/"
    },
    "id": "t0G3TKgwVtCG",
    "outputId": "bc7fbaec-143e-48fe-fde4-b4a56ccb6604"
   },
   "outputs": [],
   "source": [
    "# http://linasm.sourceforge.net/docs/syscalls/filesystem.php#file\n",
    "# syscall distribution\n",
    "\n",
    "file_syscalls = [3,85,2, 257,303,304,319,133,259,82,264,316,76,77,285,83,258,84,79,80,81,161,78,217,212,86,87,88,263,265,267,266,95,4,5,6,262,90,91,268,92,93,94,260,132,235,261,280,21,269, 188,189,190,191,192,193,194,195,196,197,198,199,16,72,32,33,292,73,0,19,17,295,1,20,18,296,8,40,26,74,75,277,162,306,206,207,208,209,210,23,270,7,271,213,291,233,232,281,253,254,294,255,300,301,221,187,318]\n",
    "process_syscalls = [56,57,58,59,322,60,231,61,247,39,110,186,112,124,109,121,111,105,102,106,104,117,118,119,120,113,114,122,123,107,108,116,115,308,160,97,302,98,314,315,144,145,142,143,203,204,146,147,148,24,141,140,251,252,12,9,11,25,10,28,149,325,151,150,152,27,324,154,126,125,205,211,218,158,134,157,317,101,310,311,312,272]\n",
    "network_syscalls = [41,51,52,53,54,55,49,50,43,288,42,48,45,47,299,44,46,307,170,171,321]\n",
    "\n",
    "# Bates -- Problem with this approach; read/write syscalls are file-based, but can also be used for networking if you pass in a Socket Descriptor instead of a File Descriptor\n",
    "\n",
    "file_c = 0\n",
    "process_c = 0\n",
    "network_c = 0\n",
    "other_c = 0\n",
    "\n",
    "dist_column = []\n",
    "for i in range(len(df)):\n",
    "    syscall_number = df.loc[i, \"NUMBER\"]\n",
    "    if syscall_number in file_syscalls:\n",
    "        file_c += 1\n",
    "        dist_column.append(\"file\")\n",
    "    elif syscall_number in process_syscalls:\n",
    "        process_c += 1\n",
    "        dist_column.append(\"process\")\n",
    "    elif syscall_number in network_syscalls:\n",
    "        network_c += 1\n",
    "        dist_column.append(\"network\")\n",
    "    else:\n",
    "        other_c += 1\n",
    "        dist_column.append(\"other\")\n",
    "\n",
    "\n",
    "\n",
    "df[\"syscall_type\"] = dist_column\n",
    "\n",
    "print(\"Total syscalls :\", len(df))\n",
    "print(\"File based system calls: \", file_c)\n",
    "print(\"Process based system calls: \", process_c)\n",
    "print(\"Network based system calls: \", network_c)\n",
    "print(\"Other system calls: \", other_c)\n"
   ]
  },
  {
   "cell_type": "code",
   "execution_count": null,
   "metadata": {
    "id": "ZnYwWpRAmBbf"
   },
   "outputs": [],
   "source": [
    "n_count = [0] * 8\n",
    "f_count = [0] * 8\n",
    "p_count = [0] * 8\n",
    "\n",
    "for i in range(len(df)):\n",
    "    syscall_type = df.loc[i, \"syscall_type\"]\n",
    "    for ind, t in enumerate(tn):\n",
    "        if df.loc[i, t] == 2:\n",
    "            if syscall_type == \"file\":\n",
    "                f_count[ind] += 1\n",
    "            if syscall_type == \"process\":\n",
    "                p_count[ind] += 1\n",
    "            if syscall_type == \"network\":\n",
    "                n_count[ind] += 1\n",
    "                \n",
    "for i in range(len(p_count)):\n",
    "    p_count[i] += (n_count[i] + f_count[i])\n",
    "\n",
    "for i in range(len(n_count)):\n",
    "    n_count[i] += f_count[i]"
   ]
  },
  {
   "cell_type": "code",
   "execution_count": null,
   "metadata": {
    "colab": {
     "base_uri": "https://localhost:8080/",
     "height": 739
    },
    "id": "rxaqjEFnuX59",
    "outputId": "994287c6-a32a-46d3-e6b6-98354b80d06d"
   },
   "outputs": [],
   "source": [
    "from matplotlib import pyplot as plt\n",
    "\n",
    "f_count[2] = n_count[2]\n",
    "\n",
    "#Set general plot properties\n",
    "# sns.set_style(\"whitegrid\")\n",
    "sns.set_context({\"figure.figsize\": (13,12)})\n",
    "\n",
    "#Plots\n",
    "sns.barplot(x = tn, y = p_count, color = \"#ffa600\")\n",
    "sns.barplot(x = tn, y = n_count, color = \"#bc5090\")\n",
    "bottom_plot = sns.barplot(x = tn, y = f_count, color = \"#003f5c\")\n",
    "\n",
    "redbar = plt.Rectangle((0,0),1,1,fc=\"#ffa600\")\n",
    "bluebar = plt.Rectangle((0,0),1,1,fc=\"#bc5090\",  edgecolor = 'none')\n",
    "greenbar = plt.Rectangle((0,0),1,1,fc=\"#003f5c\",  edgecolor = 'none')\n",
    "l = plt.legend([redbar, bluebar, greenbar], ['process', 'network', 'file'], loc=1, ncol = 3, prop={'size':16})\n",
    "l.draw_frame(False)\n",
    "\n",
    "#Optional code - Make plot look nicer\n",
    "# sns.despine(left=True)\n",
    "bottom_plot.set_ylabel(\"Drop Count\")\n",
    "bottom_plot.set_xlabel(\"Techniques\")\n",
    "\n",
    "# Set fonts to consistent 16pt size\n",
    "# for item in ([bottom_plot.xaxis.label, bottom_plot.yaxis.label] +\n",
    "#              bottom_plot.get_xticklabels() + bottom_plot.get_yticklabels()):\n",
    "#     item.set_fontsize(12)\n",
    "\n",
    "plt.savefig('dist_theia.pdf')"
   ]
  },
  {
   "cell_type": "markdown",
   "metadata": {
    "id": "RAnKJ_U_FP7t"
   },
   "source": [
    "# _**RQ3 :  What is the overlap between the various reduction techniques? How independent is one technique of the rest?**_"
   ]
  },
  {
   "cell_type": "code",
   "execution_count": null,
   "metadata": {
    "colab": {
     "base_uri": "https://localhost:8080/"
    },
    "id": "aEdmbTmI9Tv_",
    "outputId": "6fb2eba3-5fc9-4b5c-e468-0542ef6c6408"
   },
   "outputs": [],
   "source": [
    "# Events filtered by Technique A (row) that are not filtered by Technique B (colm) divided by events filtered by A i.e (A - B) divided by (A)\n",
    "\n",
    "unique_mat2 = []\n",
    "unique_mat2.append(list(tn))\n",
    "unique_mat2[0].insert(0, \"Techniques\")\n",
    "for t1 in tn:\n",
    "    temp = []\n",
    "    temp.append(t1)\n",
    "    for t2 in tn:\n",
    "        inter_count = 0\n",
    "        union_count = 0\n",
    "        for i in range(len(df)):\n",
    "            if (df.loc[i, t1] == 2) and not (df.loc[i, t2] == 2):\n",
    "                inter_count += 1\n",
    "                union_count += 1\n",
    "            elif df.loc[i, t1] == 2:\n",
    "                union_count += 1\n",
    "        unique = round((inter_count / union_count) * 100.0, 2)\n",
    "        temp.append(str(unique))\n",
    "    unique_mat2.append(temp)\n",
    "\n",
    "with open(dataname + \"overlapp3.csv\",\"w+\") as my_csv:\n",
    "    csvWriter = csv.writer(my_csv,delimiter=',')\n",
    "    csvWriter.writerows(unique_mat2)\n",
    "    \n",
    "print(\"---- Unique Event Compression Matrix (Second variation) ----\")\n",
    "print(\"Events filtered by Technique A (row) that are not filtered by Technique B (colm) divided by events filtered by A i.e (A - B) divided by (A)\\n\")\n",
    "print_matrix(unique_mat2)"
   ]
  },
  {
   "cell_type": "code",
   "execution_count": null,
   "metadata": {
    "colab": {
     "base_uri": "https://localhost:8080/"
    },
    "id": "Tm_cwocR3gOk",
    "outputId": "fdc5942d-7e02-485d-85f2-202f9fd0c10f"
   },
   "outputs": [],
   "source": [
    "# Events filtered by Technique A (row) that are not filtered by Technique B (colm) divided by events filtered by either A or B i.e (A - B) divided by (A ∪ B)\n",
    "\n",
    "unique_mat = []\n",
    "unique_mat.append(list(tn))\n",
    "unique_mat[0].insert(0, \"Techniques\")\n",
    "for t1 in tn:\n",
    "    temp = []\n",
    "    temp.append(t1)\n",
    "    for t2 in tn:\n",
    "        inter_count = 0\n",
    "        union_count = 0\n",
    "        for i in range(len(df)):\n",
    "            if (df.loc[i, t1] == 2) and not (df.loc[i, t2] == 2):\n",
    "                inter_count += 1\n",
    "                union_count += 1\n",
    "            elif df.loc[i, t1] == 2 or df.loc[i, t2] == 2:\n",
    "                union_count += 1\n",
    "        unique = round((inter_count / union_count) * 100.0, 2)\n",
    "        temp.append(str(unique))\n",
    "    unique_mat.append(temp)\n",
    "\n",
    "with open(dataname + \"overlapp2.csv\",\"w+\") as my_csv:\n",
    "    csvWriter = csv.writer(my_csv,delimiter=',')\n",
    "    csvWriter.writerows(unique_mat)\n",
    "    \n",
    "print(\"---- Unique Event Compression Matrix ----\")\n",
    "print(\"Events filtered by Technique A (row) that are not filtered by Technique B (colm) divided by events filtered by either A or B i.e (A - B) divided by (A ∪ B)\\n\")\n",
    "print_matrix(unique_mat)"
   ]
  },
  {
   "cell_type": "code",
   "execution_count": null,
   "metadata": {
    "colab": {
     "base_uri": "https://localhost:8080/"
    },
    "id": "tIWRq3kdsB62",
    "outputId": "e0b98b5b-40c2-484e-d1be-c635c3390097"
   },
   "outputs": [],
   "source": [
    "# Events filtered by both Technique A (row) and by Technique B (colm) divided by events filtered by either A or B i.e (A ∩ B) divided by (A ∪ B)\n",
    "overlapp_matrix = []\n",
    "overlapp_matrix.append(list(tn))\n",
    "overlapp_matrix[0].insert(0, \"Techniques\")\n",
    "for t1 in tn:\n",
    "    temp = []\n",
    "    temp.append(t1)\n",
    "    for t2 in tn:\n",
    "        inter_count = 0\n",
    "        union_count = 0\n",
    "        for i in range(len(df)):\n",
    "            if( (df.loc[i,t1] == 2) and (df.loc[i,t2] == 2)):\n",
    "                inter_count += 1\n",
    "                union_count += 1\n",
    "            elif (df.loc[i,t1] == 2 or df.loc[i,t2] == 2):\n",
    "                union_count += 1\n",
    "        overlapp = round((inter_count/union_count) * 100.0, 2)\n",
    "        temp.append(str(overlapp))\n",
    "    overlapp_matrix.append(temp)\n",
    "\n",
    "    \n",
    "with open(dataname + \"overlapp1.csv\",\"w+\") as my_csv:\n",
    "    csvWriter = csv.writer(my_csv,delimiter=',')\n",
    "    csvWriter.writerows(overlapp_matrix)\n",
    "    \n",
    "print(\"---- Overlap Matrix ----\")\n",
    "print(\"Events filtered by both Technique A (row) and by Technique B (colm) divided by events filtered by either A or B i.e (A ∩ B) divided by (A ∪ B)\\n\")\n",
    "print_matrix(overlapp_matrix)\n"
   ]
  },
  {
   "cell_type": "markdown",
   "metadata": {
    "id": "FfQEv0G7Fo7R"
   },
   "source": [
    "# **_RQ4 : Which set of techniques, both intuitively and experimentally, when used together provide us the maximum reduction?_**"
   ]
  },
  {
   "cell_type": "code",
   "execution_count": null,
   "metadata": {
    "id": "7cyA8ETjQ9dF"
   },
   "outputs": [],
   "source": [
    "def combinationUtil(arr, n, r,index, data, i,sub_array):  \n",
    "    if(index == r):\n",
    "        temp = [] \n",
    "        for j in range(r):\n",
    "            temp.append(data[j])\n",
    "        sub_array.append(temp)\n",
    "        return\n",
    "    if(i >= n): \n",
    "        return\n",
    "    data[index] = arr[i] \n",
    "    combinationUtil(arr, n, r,  index + 1, data, i + 1, sub_array) \n",
    "    combinationUtil(arr, n, r, index,data, i + 1, sub_array) \n",
    "\n",
    "def getCombinations(arr, n, r):  \n",
    "    data = list(range(r))\n",
    "    sub_array = []\n",
    "    combinationUtil(arr, n, r,  0, data, 0,sub_array)\n",
    "    return sub_array\n",
    "\n"
   ]
  },
  {
   "cell_type": "code",
   "execution_count": null,
   "metadata": {
    "id": "QMwhoD2-YzP9"
   },
   "outputs": [],
   "source": [
    "subset2_array = getCombinations(tn, len(tn) , 2)\n",
    "subset3_array = getCombinations(tn, len(tn) , 3)"
   ]
  },
  {
   "cell_type": "code",
   "execution_count": null,
   "metadata": {},
   "outputs": [],
   "source": [
    "my_dict = {}\n",
    "for techs in subset2_array:\n",
    "    tup = (techs[0], techs[1])\n",
    "    my_dict[tup] = 0\n",
    "\n",
    "for i in range(len(df)):\n",
    "    for key in my_dict:\n",
    "        for t in key:\n",
    "            if df.loc[i, t] == 2:\n",
    "                my_dict[key] += 1\n",
    "                break\n",
    "    \n",
    "sorted_dict2 = {k: v for k, v in sorted(my_dict.items(), reverse=True, key=lambda item: item[1])}\n",
    "\n",
    "darray = []\n",
    "for key,value in sorted_dict2.items():\n",
    "    my_str = key[0] + \"+\" +  key[1]\n",
    "    temp = [my_str,value]\n",
    "    darray.append(temp)\n",
    "        \n",
    "    \n",
    "with open(dataname + \"sub2.csv\",\"w+\") as my_csv:\n",
    "    csvWriter = csv.writer(my_csv,delimiter=',')\n",
    "    csvWriter.writerows(darray)\n",
    "\n",
    "sorted_dict2"
   ]
  },
  {
   "cell_type": "code",
   "execution_count": null,
   "metadata": {},
   "outputs": [],
   "source": [
    "my_dict = {}\n",
    "for techs in subset3_array:\n",
    "    tup = (techs[0], techs[1], techs[2])\n",
    "    my_dict[tup] = 0\n",
    "\n",
    "for i in range(len(df)):\n",
    "    for key in my_dict:\n",
    "        for t in key:\n",
    "            if df.loc[i, t] == 2:\n",
    "                my_dict[key] += 1\n",
    "                break\n",
    "    \n",
    "sorted_dict = {k: v for k, v in sorted(my_dict.items(),reverse=True, key=lambda item: item[1])}\n",
    "\n",
    "darray = []\n",
    "for key,value in sorted_dict.items():\n",
    "    my_str = key[0] + \"+\" +  key[1] + \"+\" + key[2]\n",
    "    temp = [my_str,value]\n",
    "    darray.append(temp)\n",
    "        \n",
    "    \n",
    "with open(dataname + \"sub3.csv\",\"w+\") as my_csv:\n",
    "    csvWriter = csv.writer(my_csv,delimiter=',')\n",
    "    csvWriter.writerows(darray)\n",
    "\n",
    "sorted_dict"
   ]
  },
  {
   "cell_type": "code",
   "execution_count": null,
   "metadata": {
    "colab": {
     "base_uri": "https://localhost:8080/"
    },
    "id": "yYoUxo0clqW4",
    "outputId": "c04c3bfb-f44c-4905-a5d8-caac5477043f"
   },
   "outputs": [],
   "source": [
    "##  Algorithm : Pick the thing that offers the most compression, then with the remaining events, take the thing that offers the next compression\n",
    "\n",
    "visited = [0] * len(df)\n",
    "\n",
    "def find_max(data, techniques):\n",
    "    # print(techniques)\n",
    "    num_dict = {}\n",
    "    for t in techniques:\n",
    "        num_dict[t] = 0\n",
    "    \n",
    "    for i in range(len(data)):\n",
    "        for t in techniques:\n",
    "            if (visited[i] == 0):\n",
    "                if (df.loc[i, t] == 2):\n",
    "                    num_dict[t] += 1\n",
    "    # print(num_dict)\n",
    "    max_value = -1\n",
    "    max_key = \"\"\n",
    "    for key, value in num_dict.items():\n",
    "        if value > max_value:\n",
    "            max_value = value\n",
    "            max_key = key\n",
    "    \n",
    "    if(max_value == 0):\n",
    "        return \"nothing\" , 0\n",
    "\n",
    "    for i in range(len(data)):\n",
    "        if df.loc[i, max_key] == 2:\n",
    "            visited[i] = 1\n",
    "\n",
    "    return max_key, max_value\n",
    "\n",
    "\n",
    "tech = [x for x in tn]\n",
    "# tech.remove(\"DPRESERVE_SD\")\n",
    "# tech.remove(\"DPRESERVE_FD\")\n",
    "count = 0\n",
    "while len(tech):\n",
    "    max_tech, number = find_max(df, tech)\n",
    "    if number == 0:\n",
    "        print(\"All other techniques further remove no items\")\n",
    "        break\n",
    "    tech.remove(max_tech)\n",
    "    if(count == 0):\n",
    "        print(\"Technique \" + max_tech + \" initially removed \" + str(number) + \" entries\")\n",
    "    else:\n",
    "        print(\"Technique \" + max_tech + \" further removed \" + str(number) + \" from the remaining entries\")\n",
    "    count+=1\n",
    "\n",
    "\n"
   ]
  }
 ],
 "metadata": {
  "colab": {
   "collapsed_sections": [],
   "name": "Faust_Analysis.ipynb",
   "provenance": [],
   "toc_visible": true
  },
  "kernelspec": {
   "display_name": "Python 3",
   "language": "python",
   "name": "python3"
  },
  "language_info": {
   "codemirror_mode": {
    "name": "ipython",
    "version": 3
   },
   "file_extension": ".py",
   "mimetype": "text/x-python",
   "name": "python",
   "nbconvert_exporter": "python",
   "pygments_lexer": "ipython3",
   "version": "3.6.9"
  }
 },
 "nbformat": 4,
 "nbformat_minor": 1
}
